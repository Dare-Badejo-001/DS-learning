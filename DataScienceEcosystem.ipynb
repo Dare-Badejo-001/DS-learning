{
 "cells": [
  {
   "cell_type": "markdown",
   "metadata": {},
   "source": [
    "# Exercise 2 - Notebook Title\n",
    "Create a markdown cell with the title of the notebook."
   ]
  },
  {
   "cell_type": "code",
   "execution_count": null,
   "metadata": {},
   "outputs": [],
   "source": [
    "# Exercise 2 - Notebook Title\n",
    "\n",
    "# A Jupyter Notebook with Exercises for Markdown and Code Cells"
   ]
  },
  {
   "cell_type": "markdown",
   "metadata": {},
   "source": [
    "# Exercise 3 - Introduction\n",
    "Create a markdown cell for an introduction."
   ]
  },
  {
   "cell_type": "markdown",
   "metadata": {},
   "source": [
    "# Exercise 3 - Introduction\n",
    "\n",
    " This notebook contains a series of exercises designed to demonstrate the use of markdown and code cells in Jupyter Notebooks. \n",
    " It covers topics such as creating markdown cells for text, lists, tables, and objectives, as well as code cells for performing basic arithmetic operations and conversions."
   ]
  },
  {
   "cell_type": "markdown",
   "metadata": {},
   "source": [
    "# Exercise 4 - Data Science Languages\n",
    "\n",
    "-  The following are some of the popular languages used in Data Science:\n",
    "- Python\n",
    "- R\n",
    "- SQL\n",
    "- Julia\n",
    "- Scala\n",
    "- Java\n",
    "- MATLAB\n",
    "- C++"
   ]
  },
  {
   "cell_type": "markdown",
   "metadata": {},
   "source": [
    "# Exercise 5 - Data Science Libraries\n",
    "Create a markdown cell to list data science libraries.\n",
    "The following are some of the commonly used libraries in Data Science:\n",
    "- Pandas\n",
    "- NumPy\n",
    "- Matplotlib\n",
    "- Seaborn\n",
    "- Scikit-learn\n",
    "- TensorFlow\n",
    "- PyTorch\n",
    "- Keras"
   ]
  },
  {
   "cell_type": "markdown",
   "metadata": {},
   "source": [
    "# Exercise 6 - Data Science Tools Table\n",
    "\n",
    "| Tool Name       | Description                              |\n",
    "|------------------|------------------------------------------|\n",
    "| Jupyter Notebook | An open-source web application for creating and sharing documents with live code, equations, visualizations, and narrative text. |\n",
    "| RStudio          | An integrated development environment (IDE) for R, used for statistical computing and graphics. |\n",
    "| Apache Spark     | A unified analytics engine for large-scale data processing. |\n",
    "| Tableau          | A powerful data visualization tool used for creating interactive and shareable dashboards. |"
   ]
  },
  {
   "cell_type": "markdown",
   "metadata": {},
   "source": [
    "# Exercise 7 - Arithmetic Expression Examples\n",
    "Arithmetic expressions are used to perform mathematical operations such as addition, subtraction, multiplication, and division. Below are some examples of arithmetic expressions that can be executed in code cells."
   ]
  },
  {
   "cell_type": "markdown",
   "metadata": {},
   "source": [
    "# Exercise 8 - Multiply and Add Numbers\n",
    "Create a code cell to multiply and add numbers."
   ]
  },
  {
   "cell_type": "code",
   "execution_count": 2,
   "metadata": {},
   "outputs": [
    {
     "data": {
      "text/plain": [
       "(20, 25)"
      ]
     },
     "execution_count": 2,
     "metadata": {},
     "output_type": "execute_result"
    }
   ],
   "source": [
    "# Exercise 8 - Multiply and Add Numbers\n",
    "\n",
    "# Multiply two numbers\n",
    "product = 5 * 4\n",
    "\n",
    "# Add two numbers\n",
    "sum_result = 10 + 15\n",
    "\n",
    "# Display the results\n",
    "product, sum_result"
   ]
  },
  {
   "cell_type": "markdown",
   "metadata": {},
   "source": [
    "# Exercise 9 - Convert Minutes to Hours\n",
    "Create a code cell to convert minutes to hours."
   ]
  },
  {
   "cell_type": "code",
   "execution_count": 3,
   "metadata": {},
   "outputs": [
    {
     "data": {
      "text/plain": [
       "2.5"
      ]
     },
     "execution_count": 3,
     "metadata": {},
     "output_type": "execute_result"
    }
   ],
   "source": [
    "# Exercise 9 - Convert Minutes to Hours\n",
    "\n",
    "# Define the number of minutes\n",
    "minutes = 150\n",
    "\n",
    "# Convert minutes to hours\n",
    "hours = minutes / 60\n",
    "\n",
    "# Display the result\n",
    "hours"
   ]
  },
  {
   "cell_type": "markdown",
   "metadata": {},
   "source": [
    "# Exercise 10 - Objectives\n",
    "The objectives of this notebook are as follows:\n",
    "- Demonstrate the use of markdown cells for creating structured and formatted text.\n",
    "- List popular languages and libraries used in Data Science.\n",
    "- Create tables to organize and present information effectively.\n",
    "- Perform basic arithmetic operations using code cells.\n",
    "- Convert units using Python code.\n",
    "- Share the notebook through GitHub."
   ]
  },
  {
   "cell_type": "markdown",
   "metadata": {},
   "source": [
    "# Exercise 11 - Author's Name\n",
    "\n",
    "### Author: Dare Badejo"
   ]
  },
  {
   "cell_type": "markdown",
   "metadata": {},
   "source": [
    "# Exercise 12 - Share Notebook on GitHub\n",
    "Share your notebook through GitHub."
   ]
  },
  {
   "cell_type": "code",
   "execution_count": null,
   "metadata": {},
   "outputs": [],
   "source": [
    "# Exercise 12 - Share Notebook on GitHub\n",
    "\n",
    "# To share this notebook on GitHub, follow these steps:\n",
    "# 1. Save the notebook file (.ipynb) to your local machine.\n",
    "# 2. Open your GitHub account and navigate to the desired repository or create a new one.\n",
    "# 3. Click on the \"Add file\" button and select \"Upload files.\"\n",
    "# 4. Drag and drop the notebook file or click \"choose your files\" to upload it.\n",
    "# 5. Add a commit message and click \"Commit changes\" to save the notebook to the repository.\n",
    "# 6. Share the repository link with others to provide access to the notebook."
   ]
  },
  {
   "cell_type": "markdown",
   "metadata": {},
   "source": [
    "# Exercise 13 - Screenshot of Notebook\n",
    "Take a screenshot of the first page of the notebook."
   ]
  },
  {
   "cell_type": "code",
   "execution_count": null,
   "metadata": {},
   "outputs": [],
   "source": [
    "# Exercise 13 - Screenshot of Notebook\n",
    "\n",
    "# To complete this exercise, take a screenshot of the first page of this notebook, including the title and introduction sections, and save it as an image file."
   ]
  }
 ],
 "metadata": {
  "kernelspec": {
   "display_name": "Python 3",
   "language": "python",
   "name": "python3"
  },
  "language_info": {
   "codemirror_mode": {
    "name": "ipython",
    "version": 3
   },
   "file_extension": ".py",
   "mimetype": "text/x-python",
   "name": "python",
   "nbconvert_exporter": "python",
   "pygments_lexer": "ipython3",
   "version": "3.9.6"
  }
 },
 "nbformat": 4,
 "nbformat_minor": 2
}
